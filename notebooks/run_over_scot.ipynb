{
 "cells": [
  {
   "cell_type": "code",
   "execution_count": null,
   "id": "b6d30b50",
   "metadata": {},
   "outputs": [],
   "source": [
    "from votekit.cvr_loaders import load_scottish\n",
    "from votekit.elections import STV, Borda, Plurality\n",
    "\n",
    "from functools import partial\n",
    "from glob import glob\n",
    "from tqdm.notebook import tqdm\n",
    "import json\n",
    "from fairness_metric import sigma_IIA, sigma_UM\n",
    "import numpy as np"
   ]
  },
  {
   "cell_type": "code",
   "execution_count": 2,
   "id": "d95a7e95",
   "metadata": {},
   "outputs": [],
   "source": [
    "# ELECTION_CLASS = partial(Borda, tiebreak = \"first_place\")\n",
    "# election_type = f\"plurality\"\n",
    "# ELECTION_CLASS = partial(Plurality, tiebreak = \"first_place\")\n",
    "n_approval = 3\n",
    "election_type = f\"{n_approval}-approval\"\n",
    "\n",
    "output_file = f\"./scottish_stats/{election_type}_output.json\"\n",
    "stats_file = f\"./scottish_stats/{election_type}_stats.json\""
   ]
  },
  {
   "cell_type": "code",
   "execution_count": 3,
   "id": "a7bcdadd",
   "metadata": {},
   "outputs": [
    {
     "data": {
      "application/vnd.jupyter.widget-view+json": {
       "model_id": "9fd1ddf6668c4388b589527cbb995822",
       "version_major": 2,
       "version_minor": 0
      },
      "text/plain": [
       "  0%|          | 0/1070 [00:00<?, ?it/s]"
      ]
     },
     "metadata": {},
     "output_type": "display_data"
    }
   ],
   "source": [
    "scottish_election_stats = {\n",
    "    str(cands): {\n",
    "        \"n_voters\": [],\n",
    "        \"sigma_UM\": [],\n",
    "        \"sigma_IIA\": [],\n",
    "    }\n",
    "    for cands in range(3, 15)\n",
    "}\n",
    "\n",
    "\n",
    "all_files = glob(\"./scot-elex/*/*.csv\")\n",
    "for f in tqdm(all_files):\n",
    "    n_cands = f.split(\"/\")[-2].split(\"_\")[0]\n",
    "    approval_vector = [1] * n_approval + [0] * (int(n_cands) - n_approval)\n",
    "    ELECTION_CLASS = partial(Borda, tiebreak = \"first_place\", score_vector = approval_vector)\n",
    "    profile, seats, cand_list, cand_to_party, ward = load_scottish(f)\n",
    "    scottish_election_stats[n_cands][\"n_voters\"].append(int(profile.df[\"Weight\"].sum()))\n",
    "    scottish_election_stats[n_cands][\"sigma_UM\"].append(float(sigma_UM(profile, ELECTION_CLASS)))\n",
    "    scottish_election_stats[n_cands][\"sigma_IIA\"].append(float(sigma_IIA(profile, ELECTION_CLASS)))\n"
   ]
  },
  {
   "cell_type": "code",
   "execution_count": 4,
   "id": "053ee063",
   "metadata": {},
   "outputs": [],
   "source": [
    "with open(output_file, 'w') as f:\n",
    "    json.dump(scottish_election_stats, f, indent=4)"
   ]
  },
  {
   "cell_type": "code",
   "execution_count": 5,
   "id": "d73e3032",
   "metadata": {},
   "outputs": [],
   "source": [
    "scottish_election_interpreted_values = {\n",
    "    str(cands): { }\n",
    "    for cands in range(3, 15)\n",
    "}\n",
    "\n",
    "for key, data in scottish_election_stats.items():\n",
    "    scottish_election_interpreted_values[key][\"median_voters\"] = int(np.median(data[\"n_voters\"]))\n",
    "    scottish_election_interpreted_values[key][\"max_voters\"] = int(np.max(data[\"n_voters\"]))\n",
    "    scottish_election_interpreted_values[key][\"mean_sigma_IIA\"] = float(np.mean(data[\"sigma_IIA\"]))\n",
    "    scottish_election_interpreted_values[key][\"variance_sigma_IIA\"] = float(np.var(data[\"sigma_IIA\"]))\n",
    "    scottish_election_interpreted_values[key][\"mean_sigma_UM\"] = float(np.mean(data[\"sigma_UM\"]))\n",
    "    scottish_election_interpreted_values[key][\"variance_sigma_UM\"] = float(np.var(data[\"sigma_UM\"]))\n",
    "    "
   ]
  },
  {
   "cell_type": "code",
   "execution_count": 6,
   "id": "918e6af0",
   "metadata": {},
   "outputs": [],
   "source": [
    "with open(stats_file, 'w') as f:\n",
    "    json.dump(scottish_election_interpreted_values, f, indent=4)"
   ]
  },
  {
   "cell_type": "code",
   "execution_count": null,
   "id": "3d23c04b",
   "metadata": {},
   "outputs": [],
   "source": []
  }
 ],
 "metadata": {
  "kernelspec": {
   "display_name": "nurbs-voting-stuff",
   "language": "python",
   "name": "python3"
  },
  "language_info": {
   "codemirror_mode": {
    "name": "ipython",
    "version": 3
   },
   "file_extension": ".py",
   "mimetype": "text/x-python",
   "name": "python",
   "nbconvert_exporter": "python",
   "pygments_lexer": "ipython3",
   "version": "3.11.4"
  }
 },
 "nbformat": 4,
 "nbformat_minor": 5
}
